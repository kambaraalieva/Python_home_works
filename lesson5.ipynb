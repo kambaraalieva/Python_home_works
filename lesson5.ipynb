{
 "cells": [
  {
   "cell_type": "code",
   "id": "initial_id",
   "metadata": {
    "collapsed": true,
    "ExecuteTime": {
     "end_time": "2025-10-28T13:16:27.894098Z",
     "start_time": "2025-10-28T13:16:24.145520Z"
    }
   },
   "source": [
    "price = int(input(\"Enter a number: \"))\n",
    "print(price)\n",
    "print(type(price))"
   ],
   "outputs": [
    {
     "name": "stdout",
     "output_type": "stream",
     "text": [
      "45\n",
      "<class 'int'>\n"
     ]
    }
   ],
   "execution_count": 2
  },
  {
   "metadata": {
    "ExecuteTime": {
     "end_time": "2025-10-28T13:17:07.816577Z",
     "start_time": "2025-10-28T13:17:07.808547Z"
    }
   },
   "cell_type": "code",
   "source": [
    "a = True+True+False\n",
    "print(a)"
   ],
   "id": "f3bffc67ec257321",
   "outputs": [
    {
     "name": "stdout",
     "output_type": "stream",
     "text": [
      "2\n"
     ]
    }
   ],
   "execution_count": 3
  },
  {
   "metadata": {
    "ExecuteTime": {
     "end_time": "2025-10-28T13:18:33.480601Z",
     "start_time": "2025-10-28T13:18:33.471603Z"
    }
   },
   "cell_type": "code",
   "source": [
    "num1 = 2 > 1\n",
    "num2 = 1 == 1\n",
    "\n",
    "a = num1 + num2\n",
    "print(a)"
   ],
   "id": "774672c8768e70",
   "outputs": [
    {
     "name": "stdout",
     "output_type": "stream",
     "text": [
      "2\n"
     ]
    }
   ],
   "execution_count": 4
  },
  {
   "metadata": {
    "ExecuteTime": {
     "end_time": "2025-10-28T13:21:10.928584Z",
     "start_time": "2025-10-28T13:21:10.919056Z"
    }
   },
   "cell_type": "code",
   "source": [
    "num1 = 4\n",
    "num2 = 2\n",
    "print(num1 <= num2)"
   ],
   "id": "2efedaaf39642569",
   "outputs": [
    {
     "name": "stdout",
     "output_type": "stream",
     "text": [
      "False\n"
     ]
    }
   ],
   "execution_count": 5
  },
  {
   "metadata": {
    "ExecuteTime": {
     "end_time": "2025-10-28T13:24:22.135232Z",
     "start_time": "2025-10-28T13:24:17.452434Z"
    }
   },
   "cell_type": "code",
   "source": [
    "age = int(input(\"Enter your age:\"))\n",
    "a = age % 5 == 0\n",
    "print(a)"
   ],
   "id": "2a68962e38aea727",
   "outputs": [
    {
     "name": "stdout",
     "output_type": "stream",
     "text": [
      "True\n"
     ]
    }
   ],
   "execution_count": 6
  },
  {
   "metadata": {
    "ExecuteTime": {
     "end_time": "2025-10-28T13:28:05.976536Z",
     "start_time": "2025-10-28T13:28:01.684822Z"
    }
   },
   "cell_type": "code",
   "source": [
    "age = int(input(\"Enter your age:\"))\n",
    "a = age % 10 == 0 and age >= 50\n",
    "print(a)"
   ],
   "id": "eefb1f20cbfdc6f0",
   "outputs": [
    {
     "name": "stdout",
     "output_type": "stream",
     "text": [
      "True\n"
     ]
    }
   ],
   "execution_count": 7
  },
  {
   "metadata": {
    "ExecuteTime": {
     "end_time": "2025-10-28T13:29:12.713815Z",
     "start_time": "2025-10-28T13:29:08.436873Z"
    }
   },
   "cell_type": "code",
   "source": [
    "age = int(input(\"Enter your age:\"))\n",
    "a = age % 10 == 0 or age > 0\n",
    "print(a)"
   ],
   "id": "7111612b84cb8ab8",
   "outputs": [
    {
     "name": "stdout",
     "output_type": "stream",
     "text": [
      "True\n"
     ]
    }
   ],
   "execution_count": 9
  },
  {
   "metadata": {
    "ExecuteTime": {
     "end_time": "2025-10-28T13:36:11.449077Z",
     "start_time": "2025-10-28T13:36:05.872718Z"
    }
   },
   "cell_type": "code",
   "source": [
    "name = input(\"Enter your name:\")\n",
    "if name == 'Bob' :\n",
    "    print('It is male')\n",
    "else:\n",
    "    print('It is female')"
   ],
   "id": "54a8a2b3f863e69a",
   "outputs": [
    {
     "name": "stdout",
     "output_type": "stream",
     "text": [
      "It is female\n"
     ]
    }
   ],
   "execution_count": 10
  },
  {
   "metadata": {
    "ExecuteTime": {
     "end_time": "2025-10-28T13:40:41.240544Z",
     "start_time": "2025-10-28T13:40:34.972194Z"
    }
   },
   "cell_type": "code",
   "source": [
    "a = int(input(\"Enter your number: \"))\n",
    "if a > 0:\n",
    "    print('Positive')\n",
    "elif a == 0:\n",
    "    print('Zero')\n",
    "else:\n",
    "    print('Negative')"
   ],
   "id": "85a38b12b252bf1a",
   "outputs": [
    {
     "name": "stdout",
     "output_type": "stream",
     "text": [
      "Negative\n"
     ]
    }
   ],
   "execution_count": 13
  },
  {
   "metadata": {
    "ExecuteTime": {
     "end_time": "2025-10-28T13:54:03.237240Z",
     "start_time": "2025-10-28T13:53:50.906574Z"
    }
   },
   "cell_type": "code",
   "source": [
    "person = input(\"Type status of a person: \")\n",
    "\n",
    "if person == 'student' or person == 'schoolboy' or person == 'schoolgirl' :\n",
    "    print(f'The {person} is studying in university or school.' )\n",
    "else:\n",
    "    print(f'The {person} is a graduate.')"
   ],
   "id": "b341a30b16d5f872",
   "outputs": [
    {
     "name": "stdout",
     "output_type": "stream",
     "text": [
      "The schoolboy is studying in university or school.\n"
     ]
    }
   ],
   "execution_count": 19
  },
  {
   "metadata": {
    "ExecuteTime": {
     "end_time": "2025-10-28T14:39:17.064406Z",
     "start_time": "2025-10-28T14:39:13.660255Z"
    }
   },
   "cell_type": "code",
   "source": [
    "age = input(\"Enter your age: \")\n",
    "age1 = int(age)\n",
    "if age1 < 18:\n",
    "    print('You are a child')\n",
    "elif age1 >= 18 and age1 <= 35:\n",
    "    print('You are an adult')\n",
    "elif age1 >= 35 and age1 <= 100:\n",
    "    print('You are an elder')\n",
    "else:\n",
    "    print('Your age is not realistic or a number')"
   ],
   "id": "2ec7cc44466b7215",
   "outputs": [
    {
     "name": "stdout",
     "output_type": "stream",
     "text": [
      "Your age is not realistic or a number\n"
     ]
    }
   ],
   "execution_count": 35
  },
  {
   "metadata": {
    "ExecuteTime": {
     "end_time": "2025-10-28T14:48:15.680026Z",
     "start_time": "2025-10-28T14:48:15.644462Z"
    }
   },
   "cell_type": "code",
   "source": [
    "list1 = [2, 3, \"Sash\", \"Aktan\"]\n",
    "list1. append('Polina')\n",
    "if 'Aktan' in list1:\n",
    "    print('Aktan is good')\n",
    "else:\n",
    "    print('Aktan is not good')\n"
   ],
   "id": "91f195d3e630c437",
   "outputs": [
    {
     "name": "stdout",
     "output_type": "stream",
     "text": [
      "Aktan is good\n"
     ]
    }
   ],
   "execution_count": 36
  }
 ],
 "metadata": {
  "kernelspec": {
   "display_name": "Python 3",
   "language": "python",
   "name": "python3"
  },
  "language_info": {
   "codemirror_mode": {
    "name": "ipython",
    "version": 2
   },
   "file_extension": ".py",
   "mimetype": "text/x-python",
   "name": "python",
   "nbconvert_exporter": "python",
   "pygments_lexer": "ipython2",
   "version": "2.7.6"
  }
 },
 "nbformat": 4,
 "nbformat_minor": 5
}
