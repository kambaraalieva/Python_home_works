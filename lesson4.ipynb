{
 "cells": [
  {
   "cell_type": "code",
   "id": "initial_id",
   "metadata": {
    "collapsed": true,
    "ExecuteTime": {
     "end_time": "2025-10-27T13:11:48.320123Z",
     "start_time": "2025-10-27T13:11:48.311951Z"
    }
   },
   "source": [
    "a = 4/7\n",
    "print(round(a))"
   ],
   "outputs": [
    {
     "name": "stdout",
     "output_type": "stream",
     "text": [
      "1\n"
     ]
    }
   ],
   "execution_count": 1
  },
  {
   "metadata": {
    "ExecuteTime": {
     "end_time": "2025-10-27T13:27:53.370038Z",
     "start_time": "2025-10-27T13:27:53.362384Z"
    }
   },
   "cell_type": "code",
   "source": [
    "import math as m\n",
    "import pandas\n",
    "\n",
    "num1 = 5.43\n",
    "print(m.ceil(num1))\n",
    "\n",
    "num1 = 5.43\n",
    "print(round(num1))\n",
    "\n",
    "num1 = 5.43\n",
    "print(m.floor(num1))\n",
    "\n",
    "num1 = 5.8\n",
    "print(m.floor(num1))\n",
    "\n",
    "num1 = 5.898\n",
    "print(round(num1, 2))\n",
    "\n",
    "num2 = m.radians(30)\n",
    "print(num2)\n",
    "\n",
    "num3 = m.degrees(0.76983217)\n",
    "print(num3)\n",
    "\n",
    "num4 = m.pow(2, 5)\n",
    "print(num4)\n",
    "\n",
    "num5 = m.sqrt(49)\n",
    "print(num5)\n",
    "\n",
    "exit()"
   ],
   "id": "3ba9981fd37bd6c4",
   "outputs": [
    {
     "name": "stdout",
     "output_type": "stream",
     "text": [
      "6\n",
      "5\n",
      "5\n",
      "5\n",
      "5.9\n",
      "0.5235987755982988\n",
      "2578.3100780887044\n"
     ]
    }
   ],
   "execution_count": 7
  },
  {
   "metadata": {
    "ExecuteTime": {
     "end_time": "2025-10-27T13:48:44.608751Z",
     "start_time": "2025-10-27T13:48:44.583638Z"
    }
   },
   "cell_type": "code",
   "source": [
    "l = 4.5\n",
    "w = 5\n",
    "h = 0.45\n",
    "V = l*w*h\n",
    "print(V)\n",
    "\n",
    "p = 3.14\n",
    "r = 9\n",
    "V1 = (p * (r**2) * h) / 3\n",
    "print(V1)\n",
    "\n",
    "V2 = (p * (r**2) * h)\n",
    "print(V2)\n",
    "\n",
    "V3 = 4/3 * (p * (r**3))\n",
    "print(V3)"
   ],
   "id": "9720cb4f8eb06dd5",
   "outputs": [
    {
     "name": "stdout",
     "output_type": "stream",
     "text": [
      "10.125\n",
      "38.151\n",
      "114.453\n",
      "3052.08\n"
     ]
    }
   ],
   "execution_count": 12
  },
  {
   "metadata": {
    "ExecuteTime": {
     "end_time": "2025-10-27T14:44:42.021650Z",
     "start_time": "2025-10-27T14:44:41.998656Z"
    }
   },
   "cell_type": "code",
   "source": [
    "numbers = [3, 4, 5, 89]\n",
    "students = [\"John\", \"Kantemir\", \"Aktan\", \"Joe\"]\n",
    "\n",
    "name_list = [names[0]] * 10\n",
    "print(name_list)\n",
    "print(numbers)\n",
    "print(students)\n",
    "\n",
    "students[-1] = \"Timur\" #last change\n",
    "students[0] = \"Bob\"\n",
    "print(students)\n",
    "\n",
    "students.append(\"Immanuel\")\n",
    "print(students)\n",
    "\n",
    "students[4:] = students[0:2]\n",
    "print(students)\n",
    "\n",
    "student2 = [\"Alex\", \"John\"]\n",
    "students.extend(student2)\n",
    "print(students)\n",
    "\n",
    "len(numbers)"
   ],
   "id": "30e4e16d0d3944d2",
   "outputs": [
    {
     "name": "stdout",
     "output_type": "stream",
     "text": [
      "['John', 'John', 'John', 'John', 'John', 'John', 'John', 'John', 'John', 'John']\n",
      "[3, 4, 5, 89]\n",
      "['John', 'Kantemir', 'Aktan', 'Joe']\n",
      "['Bob', 'Kantemir', 'Aktan', 'Timur']\n",
      "['Bob', 'Kantemir', 'Aktan', 'Timur', 'Immanuel']\n",
      "['Bob', 'Kantemir', 'Aktan', 'Timur', 'Bob', 'Kantemir']\n",
      "['Bob', 'Kantemir', 'Aktan', 'Timur', 'Bob', 'Kantemir', 'Alex', 'John']\n"
     ]
    },
    {
     "data": {
      "text/plain": [
       "4"
      ]
     },
     "execution_count": 22,
     "metadata": {},
     "output_type": "execute_result"
    }
   ],
   "execution_count": 22
  },
  {
   "metadata": {},
   "cell_type": "code",
   "outputs": [],
   "execution_count": null,
   "source": "",
   "id": "b4c04c6ee047c3f6"
  },
  {
   "metadata": {
    "ExecuteTime": {
     "end_time": "2025-10-27T14:24:46.225456Z",
     "start_time": "2025-10-27T14:24:46.213353Z"
    }
   },
   "cell_type": "code",
   "source": [
    "students = [\"John\", \"Kantemir\", \"Aktan\", \"Joe\", \"Kantr\", \"Akn\", \"Joe\"]\n",
    "students_first_three = students[:3]\n",
    "\n",
    "students_first_three = students[:3:-1]\n",
    "print(students_first_three)\n",
    "\n",
    "students_first_three = students[::-1]  #start - stop - step\n",
    "print(students_first_three)\n",
    "students_first_three = students[3:-1:2]  #start - stop - step\n"
   ],
   "id": "1614861b1d963485",
   "outputs": [
    {
     "name": "stdout",
     "output_type": "stream",
     "text": [
      "['Joe', 'Akn', 'Kantr']\n",
      "['Joe', 'Akn', 'Kantr', 'Joe', 'Aktan', 'Kantemir', 'John']\n",
      "['Joe', 'Akn']\n"
     ]
    }
   ],
   "execution_count": 18
  },
  {
   "metadata": {
    "ExecuteTime": {
     "end_time": "2025-10-27T14:47:02.806136Z",
     "start_time": "2025-10-27T14:47:02.798219Z"
    }
   },
   "cell_type": "code",
   "source": [
    "girls = [\"Aisha\", \"Fatima\"]\n",
    "girls.remove('Aisha')\n",
    "print(girls)"
   ],
   "id": "c65d1205ef4419fe",
   "outputs": [
    {
     "name": "stdout",
     "output_type": "stream",
     "text": [
      "['Fatima']\n"
     ]
    }
   ],
   "execution_count": 23
  },
  {
   "metadata": {
    "ExecuteTime": {
     "end_time": "2025-10-27T14:57:24.015797Z",
     "start_time": "2025-10-27T14:57:24.006726Z"
    }
   },
   "cell_type": "code",
   "source": [
    "girls = [\"Aisha\", \"Fatima\"]\n",
    "girls.clear()   #удаляет все\n",
    "print(girls)"
   ],
   "id": "e580de5056b4a8a4",
   "outputs": [
    {
     "name": "stdout",
     "output_type": "stream",
     "text": [
      "[]\n"
     ]
    }
   ],
   "execution_count": 27
  },
  {
   "metadata": {
    "ExecuteTime": {
     "end_time": "2025-10-27T14:53:51.622294Z",
     "start_time": "2025-10-27T14:53:51.611431Z"
    }
   },
   "cell_type": "code",
   "source": [
    "girls = [\"Aisha\", \"Fatima\"]\n",
    "the_index = girls.index('Aisha')\n",
    "girls[0] = \"Munisa\"\n",
    "print(girls)\n"
   ],
   "id": "6ce8b8316df44439",
   "outputs": [
    {
     "name": "stdout",
     "output_type": "stream",
     "text": [
      "['Munisa', 'Fatima']\n"
     ]
    }
   ],
   "execution_count": 26
  }
 ],
 "metadata": {
  "kernelspec": {
   "display_name": "Python 3",
   "language": "python",
   "name": "python3"
  },
  "language_info": {
   "codemirror_mode": {
    "name": "ipython",
    "version": 2
   },
   "file_extension": ".py",
   "mimetype": "text/x-python",
   "name": "python",
   "nbconvert_exporter": "python",
   "pygments_lexer": "ipython2",
   "version": "2.7.6"
  }
 },
 "nbformat": 4,
 "nbformat_minor": 5
}
